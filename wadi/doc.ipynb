{
 "cells": [
  {
   "cell_type": "code",
   "execution_count": 1,
   "metadata": {},
   "outputs": [],
   "source": [
    "import torch \n",
    "import torch.nn as nn \n",
    "import torch.optim as optim\n",
    "from torch.utils.data import DataLoader\n",
    "from tqdm import trange, tqdm\n",
    "import matplotlib.pyplot as plt\n",
    "import pandas as pd\n",
    "import numpy as np\n",
    "\n",
    "from dataset import get_loaders\n",
    "from models.doc import DOC"
   ]
  },
  {
   "cell_type": "code",
   "execution_count": 3,
   "metadata": {},
   "outputs": [],
   "source": [
    "DEVICE=\"cuda\"\n",
    "WINDOW=32\n",
    "BATCH_SIZE=32\n",
    "LR=1e-4\n",
    "EPOCHS=3\n",
    "WEIGHT_DECAY=1e-6\n",
    "LATENT_DIM=32"
   ]
  },
  {
   "cell_type": "code",
   "execution_count": 4,
   "metadata": {},
   "outputs": [],
   "source": [
    "trainloader, testloader = get_loaders(root='data', window_size=WINDOW, batch_size=BATCH_SIZE)"
   ]
  },
  {
   "cell_type": "code",
   "execution_count": 5,
   "metadata": {},
   "outputs": [],
   "source": [
    "model = DOC(input_dim=123, hidden_size=256, latent_dim=LATENT_DIM, num_layers=4, bidirectional=True).to(DEVICE)"
   ]
  },
  {
   "cell_type": "code",
   "execution_count": 6,
   "metadata": {},
   "outputs": [],
   "source": [
    "optimizer = optim.Adam(model.parameters(), lr=LR, weight_decay=WEIGHT_DECAY)\n",
    "scheduler = optim.lr_scheduler.MultiStepLR(optimizer, milestones=[0], gamma=0.1)"
   ]
  },
  {
   "cell_type": "code",
   "execution_count": 7,
   "metadata": {},
   "outputs": [
    {
     "name": "stderr",
     "output_type": "stream",
     "text": [
      "100%|██████████| 24517/24517 [01:11<00:00, 342.69it/s]\n"
     ]
    }
   ],
   "source": [
    "# Init center\n",
    "model.eval()\n",
    "\n",
    "n_samples = 0\n",
    "eps=0.1\n",
    "c = torch.zeros(LATENT_DIM).to(DEVICE)\n",
    "\n",
    "model.eval()\n",
    "with torch.no_grad():\n",
    "    for x, y in tqdm(trainloader):\n",
    "        x = x.to(DEVICE)\n",
    "        proj = model(x)\n",
    "        n_samples += proj.shape[0]\n",
    "        c += torch.sum(proj, dim=0)\n",
    "c /= n_samples\n",
    "\n",
    "c[(abs(c) < eps) & (c < 0)] = -eps\n",
    "c[(abs(c) < eps) & (c > 0)] = eps"
   ]
  },
  {
   "cell_type": "code",
   "execution_count": 8,
   "metadata": {},
   "outputs": [
    {
     "name": "stderr",
     "output_type": "stream",
     "text": [
      "100%|██████████| 24517/24517 [04:32<00:00, 90.05it/s]\n"
     ]
    },
    {
     "name": "stdout",
     "output_type": "stream",
     "text": [
      "For epoch 1/3 ; loss : 0.005800602508879927\n"
     ]
    },
    {
     "name": "stderr",
     "output_type": "stream",
     "text": [
      "100%|██████████| 24517/24517 [04:30<00:00, 90.54it/s]\n"
     ]
    },
    {
     "name": "stdout",
     "output_type": "stream",
     "text": [
      "For epoch 2/3 ; loss : 1.5229896741449132e-05\n"
     ]
    },
    {
     "name": "stderr",
     "output_type": "stream",
     "text": [
      "100%|██████████| 24517/24517 [04:30<00:00, 90.47it/s]"
     ]
    },
    {
     "name": "stdout",
     "output_type": "stream",
     "text": [
      "For epoch 3/3 ; loss : 5.304579663940275e-06\n"
     ]
    },
    {
     "name": "stderr",
     "output_type": "stream",
     "text": [
      "\n"
     ]
    }
   ],
   "source": [
    "model.train()\n",
    "\n",
    "pbar = range(EPOCHS)\n",
    "for epoch in pbar:\n",
    "        \n",
    "    curr_loss = 0\n",
    "    for x, target in tqdm(trainloader):\n",
    "        x = x.to(DEVICE)\n",
    "        optimizer.zero_grad()\n",
    "        proj = model(x)\n",
    "        dist = torch.sum((proj - c) ** 2, dim=1)\n",
    "        loss = torch.mean(dist)\n",
    "        curr_loss+=loss.item()\n",
    "            \n",
    "        loss.backward()\n",
    "        optimizer.step()\n",
    "\n",
    "    scheduler.step()\n",
    "    print(f\"For epoch {epoch+1}/{EPOCHS} ; loss : {curr_loss/len(trainloader)}\")\n",
    "    \n",
    "\n",
    "checkpoint = {\"state_dict\":model.state_dict(), 'center':c.detach().cpu()}\n",
    "torch.save(checkpoint, 'checkpoints/doc.pkl')"
   ]
  },
  {
   "cell_type": "code",
   "execution_count": 9,
   "metadata": {},
   "outputs": [
    {
     "name": "stderr",
     "output_type": "stream",
     "text": [
      "100%|██████████| 5400/5400 [00:16<00:00, 335.03it/s]\n"
     ]
    }
   ],
   "source": [
    "test_proj = []\n",
    "targets = []\n",
    "\n",
    "model.eval()\n",
    "with torch.no_grad():\n",
    "    for x, target in tqdm(testloader):\n",
    "        x = x.to(DEVICE)\n",
    "        proj = model(x)\n",
    "        test_proj.append(proj)\n",
    "        targets.append(target)\n",
    "\n",
    "test_proj = torch.cat(test_proj)\n",
    "test_targets = torch.cat(targets)\n",
    "\n",
    "test_dist = torch.sum((test_proj - c) ** 2, dim=1).cpu()\n",
    "test_scores = - test_dist"
   ]
  },
  {
   "cell_type": "code",
   "execution_count": 44,
   "metadata": {},
   "outputs": [],
   "source": [
    "results = pd.DataFrame({\n",
    "    \"scores\":test_scores.cpu(),\n",
    "    \"labels\":test_targets\n",
    "})"
   ]
  },
  {
   "cell_type": "code",
   "execution_count": 45,
   "metadata": {},
   "outputs": [
    {
     "data": {
      "image/png": "[encoded data removed]",
      "text/plain": [
       "<Figure size 640x480 with 1 Axes>"
      ]
     },
     "metadata": {},
     "output_type": "display_data"
    }
   ],
   "source": [
    "results.boxplot(column='scores', by='labels', grid=False)\n",
    "plt.title('Scores')\n",
    "plt.suptitle('')  # Remove the automatic title\n",
    "plt.xticks(ticks=[1, 2], labels=['Anomaly', 'Normal'])\n",
    "plt.ylabel('Scores')\n",
    "plt.show()"
   ]
  },
  {
   "cell_type": "code",
   "execution_count": 52,
   "metadata": {},
   "outputs": [
    {
     "name": "stdout",
     "output_type": "stream",
     "text": [
      "AUC Score:  0.548\n"
     ]
    }
   ],
   "source": [
    "from sklearn.metrics import roc_auc_score\n",
    "auc = roc_auc_score(test_targets, test_scores)\n",
    "print(\"AUC Score: \", round(auc, 3))"
   ]
  }
 ],
 "metadata": {
  "kernelspec": {
   "display_name": "anots",
   "language": "python",
   "name": "python3"
  },
  "language_info": {
   "codemirror_mode": {
    "name": "ipython",
    "version": 3
   },
   "file_extension": ".py",
   "mimetype": "text/x-python",
   "name": "python",
   "nbconvert_exporter": "python",
   "pygments_lexer": "ipython3",
   "version": "3.11.10"
  }
 },
 "nbformat": 4,
 "nbformat_minor": 2
}
