{
 "cells": [
  {
   "cell_type": "code",
   "execution_count": 11,
   "metadata": {},
   "outputs": [],
   "source": [
    "import torch \n",
    "import torch.nn as nn \n",
    "import torch.optim as optim\n",
    "from torch.utils.data import DataLoader\n",
    "from tqdm import trange, tqdm\n",
    "import matplotlib.pyplot as plt\n",
    "import pandas as pd\n",
    "import numpy as np\n",
    "\n",
    "from dataset import get_loaders\n",
    "from models.tranad import TranAD"
   ]
  },
  {
   "cell_type": "code",
   "execution_count": 18,
   "metadata": {},
   "outputs": [],
   "source": [
    "DEVICE=\"cuda\"\n",
    "WINDOW=10\n",
    "BATCH_SIZE=32\n",
    "LR=1e-4\n",
    "EPOCHS=3"
   ]
  },
  {
   "cell_type": "code",
   "execution_count": 3,
   "metadata": {},
   "outputs": [],
   "source": [
    "trainloader, testloader = get_loaders(root='data', window_size=WINDOW, batch_size=BATCH_SIZE)"
   ]
  },
  {
   "cell_type": "code",
   "execution_count": 19,
   "metadata": {},
   "outputs": [
    {
     "name": "stderr",
     "output_type": "stream",
     "text": [
      "/home/svilhes/anaconda3/envs/anots/lib/python3.11/site-packages/torch/nn/modules/transformer.py:379: UserWarning: enable_nested_tensor is True, but self.use_nested_tensor is False because encoder_layer was not TransformerEncoderLayer\n",
      "  warnings.warn(\n"
     ]
    }
   ],
   "source": [
    "model = TranAD(in_dim=123, window=WINDOW).to(DEVICE)"
   ]
  },
  {
   "cell_type": "code",
   "execution_count": 20,
   "metadata": {},
   "outputs": [],
   "source": [
    "optimizer = optim.Adam(model.parameters() , lr=LR, weight_decay=1e-5)\n",
    "criterion = nn.MSELoss(reduction=\"none\")"
   ]
  },
  {
   "cell_type": "code",
   "execution_count": 21,
   "metadata": {},
   "outputs": [
    {
     "name": "stderr",
     "output_type": "stream",
     "text": [
      "100%|██████████| 24518/24518 [05:05<00:00, 80.25it/s] \n"
     ]
    },
    {
     "name": "stdout",
     "output_type": "stream",
     "text": [
      "Training loss: 0.1364902927552132\n"
     ]
    },
    {
     "name": "stderr",
     "output_type": "stream",
     "text": [
      "100%|██████████| 24518/24518 [05:16<00:00, 77.58it/s] \n"
     ]
    },
    {
     "name": "stdout",
     "output_type": "stream",
     "text": [
      "Training loss: 0.05781943340552116\n"
     ]
    },
    {
     "name": "stderr",
     "output_type": "stream",
     "text": [
      "100%|██████████| 24518/24518 [05:15<00:00, 77.70it/s]"
     ]
    },
    {
     "name": "stdout",
     "output_type": "stream",
     "text": [
      "Training loss: 0.06729837784893515\n"
     ]
    },
    {
     "name": "stderr",
     "output_type": "stream",
     "text": [
      "\n"
     ]
    }
   ],
   "source": [
    "pbar = range(EPOCHS)\n",
    "for epoch in pbar:\n",
    "    epoch_loss=0\n",
    "\n",
    "    for x, target in tqdm(trainloader):\n",
    "        x = x.to(DEVICE).permute(1, 0, 2)\n",
    "        elem = x[-1, :, :].view(1, x.size(1), x.size(2))\n",
    "        x1, x2 = model(x, elem)\n",
    "        loss = 1/(epoch+1) * criterion(elem, x1) + (1 - 1/(epoch+1)) * criterion(elem, x2)\n",
    "        loss = torch.mean(loss)\n",
    "        optimizer.zero_grad()\n",
    "        loss.backward()\n",
    "        optimizer.step()\n",
    "        epoch_loss+=loss.item()\n",
    "    print(f\"Training loss: {epoch_loss/len(trainloader)}\")\n",
    "\n",
    "checkpoint = {\"state_dict\":model.state_dict()}\n",
    "torch.save(checkpoint, 'checkpoints/tranad.pkl')"
   ]
  },
  {
   "cell_type": "code",
   "execution_count": 22,
   "metadata": {},
   "outputs": [
    {
     "name": "stderr",
     "output_type": "stream",
     "text": [
      "100%|██████████| 5400/5400 [00:10<00:00, 532.77it/s]\n"
     ]
    }
   ],
   "source": [
    "test_loss = []\n",
    "labels = []\n",
    "\n",
    "model.eval()\n",
    "with torch.no_grad():\n",
    "    for x, label in tqdm(testloader):\n",
    "        x = x.to(DEVICE).permute(1, 0, 2)\n",
    "        elem = x[-1, :, :].view(1, x.size(1), x.size(2))\n",
    "        _, pred = model(x, elem)\n",
    "        error = criterion(pred, elem).permute(1, 0, 2)\n",
    "        error = torch.mean(error, dim=(1, 2))\n",
    "        test_loss.append(error)\n",
    "        labels.append(label)\n",
    "\n",
    "test_loss = torch.cat(test_loss)\n",
    "test_scores = - test_loss.cpu()\n",
    "\n",
    "test_targets = torch.cat(labels)"
   ]
  },
  {
   "cell_type": "code",
   "execution_count": 23,
   "metadata": {},
   "outputs": [],
   "source": [
    "results = pd.DataFrame({\n",
    "    \"scores\":test_scores.cpu(),\n",
    "    \"labels\":test_targets.cpu()\n",
    "})"
   ]
  },
  {
   "cell_type": "code",
   "execution_count": 24,
   "metadata": {},
   "outputs": [
    {
     "data": {
      "image/png": "[encoded data removed]",
      "text/plain": [
       "<Figure size 640x480 with 1 Axes>"
      ]
     },
     "metadata": {},
     "output_type": "display_data"
    }
   ],
   "source": [
    "results.boxplot(column='scores', by='labels', grid=False)\n",
    "plt.title('Scores')\n",
    "plt.suptitle('')  # Remove the automatic title\n",
    "plt.xticks(ticks=[1, 2], labels=['Anomaly', 'Normal'])\n",
    "plt.ylabel('Scores')\n",
    "plt.show()"
   ]
  },
  {
   "cell_type": "code",
   "execution_count": 25,
   "metadata": {},
   "outputs": [
    {
     "name": "stdout",
     "output_type": "stream",
     "text": [
      "AUC Score:  0.508\n"
     ]
    }
   ],
   "source": [
    "from sklearn.metrics import roc_auc_score\n",
    "auc = roc_auc_score(test_targets, test_scores)\n",
    "print(\"AUC Score: \", round(auc, 3))"
   ]
  },
  {
   "cell_type": "code",
   "execution_count": null,
   "metadata": {},
   "outputs": [],
   "source": []
  }
 ],
 "metadata": {
  "kernelspec": {
   "display_name": "anots",
   "language": "python",
   "name": "python3"
  },
  "language_info": {
   "codemirror_mode": {
    "name": "ipython",
    "version": 3
   },
   "file_extension": ".py",
   "mimetype": "text/x-python",
   "name": "python",
   "nbconvert_exporter": "python",
   "pygments_lexer": "ipython3",
   "version": "3.11.10"
  }
 },
 "nbformat": 4,
 "nbformat_minor": 2
}
