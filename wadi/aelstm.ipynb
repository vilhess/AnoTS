{
 "cells": [
  {
   "cell_type": "code",
   "execution_count": 41,
   "metadata": {},
   "outputs": [],
   "source": [
    "import torch \n",
    "import torch.nn as nn \n",
    "import torch.optim as optim\n",
    "from torch.utils.data import DataLoader\n",
    "from tqdm import trange, tqdm\n",
    "import matplotlib.pyplot as plt\n",
    "import pandas as pd\n",
    "import numpy as np\n",
    "\n",
    "from dataset import get_loaders\n",
    "from models.aelstm import AELSTM"
   ]
  },
  {
   "cell_type": "code",
   "execution_count": 42,
   "metadata": {},
   "outputs": [],
   "source": [
    "DEVICE=\"mps\"\n",
    "WINDOW=32\n",
    "BATCH_SIZE=32\n",
    "LR=1e-4\n",
    "EPOCHS=3\n",
    "LATENT_DIM=64"
   ]
  },
  {
   "cell_type": "code",
   "execution_count": 17,
   "metadata": {},
   "outputs": [],
   "source": [
    "trainloader, testloader = get_loaders(root='data', window_size=WINDOW, batch_size=BATCH_SIZE)"
   ]
  },
  {
   "cell_type": "code",
   "execution_count": 18,
   "metadata": {},
   "outputs": [],
   "source": [
    "model = AELSTM(input_dim=123, hidden_size=256, latent_dim=LATENT_DIM).to(DEVICE)"
   ]
  },
  {
   "cell_type": "code",
   "execution_count": 19,
   "metadata": {},
   "outputs": [],
   "source": [
    "optimizer = optim.Adam(model.parameters(), lr=LR)\n",
    "criterion = nn.MSELoss()"
   ]
  },
  {
   "cell_type": "code",
   "execution_count": null,
   "metadata": {},
   "outputs": [],
   "source": [
    "model.train()\n",
    "\n",
    "pbar = range(EPOCHS)\n",
    "for epoch in pbar:\n",
    "        \n",
    "    curr_loss = 0\n",
    "    for x, label in tqdm(trainloader):\n",
    "        x = x.to(DEVICE)\n",
    "        targets = x[:, -1, :]\n",
    "        optimizer.zero_grad()\n",
    "        rec = model(x)\n",
    "        loss = criterion(rec, targets)\n",
    "        curr_loss+=loss.item()\n",
    "            \n",
    "        loss.backward()\n",
    "        optimizer.step()\n",
    "\n",
    "    print(f\"For epoch {epoch+1}/{EPOCHS} ; loss : {curr_loss/len(trainloader)}\")"
   ]
  },
  {
   "cell_type": "code",
   "execution_count": 37,
   "metadata": {},
   "outputs": [
    {
     "name": "stderr",
     "output_type": "stream",
     "text": [
      "100%|██████████| 5400/5400 [00:22<00:00, 236.90it/s]\n"
     ]
    }
   ],
   "source": [
    "test_loss = []\n",
    "labels = []\n",
    "\n",
    "model.eval()\n",
    "with torch.no_grad():\n",
    "    for x, label in tqdm(testloader):\n",
    "        x = x.to(DEVICE)\n",
    "        target = x[:,-1,:]\n",
    "        rec = model(x)\n",
    "        error = torch.abs(target - rec).sum(dim=1)\n",
    "        test_loss.append(error)\n",
    "        labels.append(label)\n",
    "\n",
    "test_loss = torch.cat(test_loss)\n",
    "test_scores = - test_loss.cpu()\n",
    "\n",
    "test_targets = torch.cat(labels)"
   ]
  },
  {
   "cell_type": "code",
   "execution_count": 38,
   "metadata": {},
   "outputs": [],
   "source": [
    "results = pd.DataFrame({\n",
    "    \"scores\":test_scores.cpu(),\n",
    "    \"labels\":test_targets.cpu()\n",
    "})"
   ]
  },
  {
   "cell_type": "code",
   "execution_count": 39,
   "metadata": {},
   "outputs": [
    {
     "data": {
      "image/png": "[encoded data removed]",
      "text/plain": [
       "<Figure size 640x480 with 1 Axes>"
      ]
     },
     "metadata": {},
     "output_type": "display_data"
    }
   ],
   "source": [
    "results.boxplot(column='scores', by='labels', grid=False)\n",
    "plt.title('Scores')\n",
    "plt.suptitle('')  # Remove the automatic title\n",
    "plt.xticks(ticks=[1, 2], labels=['Anomaly', 'Normal'])\n",
    "plt.ylabel('Scores')\n",
    "plt.show()"
   ]
  },
  {
   "cell_type": "code",
   "execution_count": 40,
   "metadata": {},
   "outputs": [
    {
     "name": "stdout",
     "output_type": "stream",
     "text": [
      "AUC Score:  0.511\n"
     ]
    }
   ],
   "source": [
    "from sklearn.metrics import roc_auc_score\n",
    "auc = roc_auc_score(test_targets, test_scores)\n",
    "print(\"AUC Score: \", round(auc, 3))"
   ]
  }
 ],
 "metadata": {
  "kernelspec": {
   "display_name": "these",
   "language": "python",
   "name": "python3"
  },
  "language_info": {
   "codemirror_mode": {
    "name": "ipython",
    "version": 3
   },
   "file_extension": ".py",
   "mimetype": "text/x-python",
   "name": "python",
   "nbconvert_exporter": "python",
   "pygments_lexer": "ipython3",
   "version": "3.12.2"
  }
 },
 "nbformat": 4,
 "nbformat_minor": 2
}
