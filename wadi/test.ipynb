{
 "cells": [
  {
   "cell_type": "code",
   "execution_count": 20,
   "metadata": {},
   "outputs": [],
   "source": [
    "import torch \n",
    "import torch.nn as nn \n",
    "import torch.optim as optim\n",
    "from torch.utils.data import DataLoader\n",
    "from tqdm import trange, tqdm\n",
    "import matplotlib.pyplot as plt\n",
    "import pandas as pd\n",
    "import numpy as np\n",
    "\n",
    "from dataset import get_loaders\n",
    "from models.doc import DOC"
   ]
  },
  {
   "cell_type": "code",
   "execution_count": 31,
   "metadata": {},
   "outputs": [],
   "source": [
    "DEVICE=\"mps\"\n",
    "WINDOW=32\n",
    "BATCH_SIZE=128\n",
    "LR=1e-4\n",
    "EPOCHS=3\n",
    "WEIGHT_DECAY=1e-6\n",
    "LATENT_DIM=32"
   ]
  },
  {
   "cell_type": "code",
   "execution_count": 11,
   "metadata": {},
   "outputs": [],
   "source": [
    "trainloader, testloader = get_loaders(root='data', window_size=WINDOW, batch_size=BATCH_SIZE)"
   ]
  },
  {
   "cell_type": "code",
   "execution_count": 32,
   "metadata": {},
   "outputs": [],
   "source": [
    "model = DOC(input_dim=123, hidden_size=256, latent_dim=LATENT_DIM, num_layers=4, bidirectional=True).to(DEVICE)"
   ]
  },
  {
   "cell_type": "code",
   "execution_count": 33,
   "metadata": {},
   "outputs": [],
   "source": [
    "optimizer = optim.Adam(model.parameters(), lr=LR, weight_decay=WEIGHT_DECAY)\n",
    "scheduler = optim.lr_scheduler.MultiStepLR(optimizer, milestones=[0], gamma=0.1)"
   ]
  },
  {
   "cell_type": "code",
   "execution_count": null,
   "metadata": {},
   "outputs": [],
   "source": [
    "# Init center\n",
    "model.eval()\n",
    "\n",
    "n_samples = 0\n",
    "eps=0.1\n",
    "c = torch.zeros(LATENT_DIM).to(DEVICE)\n",
    "\n",
    "model.eval()\n",
    "with torch.no_grad():\n",
    "    for x, y in tqdm(trainloader):\n",
    "        x = x.to(DEVICE)\n",
    "        proj = model(x)\n",
    "        n_samples += proj.shape[0]\n",
    "        c += torch.sum(proj, dim=0)\n",
    "c /= n_samples\n",
    "\n",
    "c[(abs(c) < eps) & (c < 0)] = -eps\n",
    "c[(abs(c) < eps) & (c > 0)] = eps"
   ]
  },
  {
   "cell_type": "code",
   "execution_count": null,
   "metadata": {},
   "outputs": [],
   "source": [
    "model.train()\n",
    "\n",
    "pbar = range(EPOCHS)\n",
    "for epoch in pbar:\n",
    "        \n",
    "    curr_loss = 0\n",
    "    for x, target in tqdm(trainloader):\n",
    "        x = x.to(DEVICE)\n",
    "        optimizer.zero_grad()\n",
    "        proj = model(x)\n",
    "        dist = torch.sum((proj - c) ** 2, dim=1)\n",
    "        loss = torch.mean(dist)\n",
    "        curr_loss+=loss.item()\n",
    "            \n",
    "        loss.backward()\n",
    "        optimizer.step()\n",
    "\n",
    "    scheduler.step()\n",
    "    print(f\"For epoch {epoch+1}/{EPOCHS} ; loss : {curr_loss/len(trainloader)}\")\n",
    "    \n",
    "\n",
    "checkpoint = {\"state_dict\":model.state_dict(), 'center':c.detach().cpu()}\n",
    "torch.save(checkpoint, 'checkpoints/doc.pkl')"
   ]
  },
  {
   "cell_type": "code",
   "execution_count": null,
   "metadata": {},
   "outputs": [],
   "source": [
    "test_proj = []\n",
    "targets = []\n",
    "\n",
    "model.eval()\n",
    "with torch.no_grad():\n",
    "    for x, target in tqdm(testloader):\n",
    "        x = x.to(DEVICE)\n",
    "        proj = model(x)\n",
    "        test_proj.append(proj)\n",
    "        targets.append(target)\n",
    "\n",
    "test_proj = torch.cat(test_proj)\n",
    "test_targets = torch.cat(targets)\n",
    "\n",
    "test_dist = torch.sum((test_proj - c) ** 2, dim=1)\n",
    "test_scores = - test_dist"
   ]
  }
 ],
 "metadata": {
  "kernelspec": {
   "display_name": "these",
   "language": "python",
   "name": "python3"
  },
  "language_info": {
   "codemirror_mode": {
    "name": "ipython",
    "version": 3
   },
   "file_extension": ".py",
   "mimetype": "text/x-python",
   "name": "python",
   "nbconvert_exporter": "python",
   "pygments_lexer": "ipython3",
   "version": "3.12.2"
  }
 },
 "nbformat": 4,
 "nbformat_minor": 2
}
